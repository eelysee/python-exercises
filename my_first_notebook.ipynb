{
 "cells": [
  {
   "attachments": {},
   "cell_type": "markdown",
   "id": "b6e35b9f",
   "metadata": {},
   "source": [
    "This hopefully will be refrerenced in later code blocks.\n",
    "Below block should end in error as undefined variable name is referenced"
   ]
  },
  {
   "cell_type": "code",
   "execution_count": 8,
   "id": "a0c95718",
   "metadata": {},
   "outputs": [
    {
     "ename": "NameError",
     "evalue": "name 'greeting' is not defined",
     "output_type": "error",
     "traceback": [
      "\u001b[0;31m---------------------------------------------------------------------------\u001b[0m",
      "\u001b[0;31mNameError\u001b[0m                                 Traceback (most recent call last)",
      "Cell \u001b[0;32mIn[8], line 5\u001b[0m\n\u001b[1;32m      2\u001b[0m greeting_promt \u001b[39m=\u001b[39m \u001b[39m'\u001b[39m\u001b[39mHow are you doing?\u001b[39m\u001b[39m'\u001b[39m\n\u001b[1;32m      3\u001b[0m kind \u001b[39m=\u001b[39m \u001b[39m'\u001b[39m\u001b[39mI am doing fine thanks for asking\u001b[39m\u001b[39m'\u001b[39m\n\u001b[0;32m----> 5\u001b[0m \u001b[39mprint\u001b[39m(greeting)\n",
      "\u001b[0;31mNameError\u001b[0m: name 'greeting' is not defined"
     ]
    }
   ],
   "source": [
    "threat = 'no soup for you'\n",
    "greeting_promt = 'How are you doing?'\n",
    "kind = 'I am doing fine thanks for asking'\n",
    "\n",
    "print(greeting)"
   ]
  },
  {
   "cell_type": "code",
   "execution_count": null,
   "id": "b7435e19",
   "metadata": {},
   "outputs": [
    {
     "data": {
      "text/plain": [
       "0.30000000000000004"
      ]
     },
     "execution_count": 4,
     "metadata": {},
     "output_type": "execute_result"
    }
   ],
   "source": [
    ".10 + .20\n"
   ]
  },
  {
   "cell_type": "code",
   "execution_count": null,
   "id": "6a9d4f99",
   "metadata": {},
   "outputs": [],
   "source": [
    "print(threat)"
   ]
  },
  {
   "cell_type": "code",
   "execution_count": null,
   "id": "e6a03cd1",
   "metadata": {},
   "outputs": [],
   "source": [
    "print(kind)"
   ]
  },
  {
   "attachments": {},
   "cell_type": "markdown",
   "id": "39e56ac7",
   "metadata": {},
   "source": [
    "Mark down cheat sheet: \n",
    "'A' to create a cell above. \n",
    "'M' to change a cell to markdown\n",
    "'Shift + Enter' : Run the current cell and move the cursor to the next cell.\n",
    "'Ctrl + Enter' : Run the current cell without moving the cursor."
   ]
  },
  {
   "cell_type": "code",
   "execution_count": null,
   "id": "4298eaa2",
   "metadata": {},
   "outputs": [],
   "source": [
    "''' this should be a comment\n",
    "\n",
    "\n",
    "'''\n"
   ]
  }
 ],
 "metadata": {
  "kernelspec": {
   "display_name": "Python 3 (ipykernel)",
   "language": "python",
   "name": "python3"
  },
  "language_info": {
   "codemirror_mode": {
    "name": "ipython",
    "version": 3
   },
   "file_extension": ".py",
   "mimetype": "text/x-python",
   "name": "python",
   "nbconvert_exporter": "python",
   "pygments_lexer": "ipython3",
   "version": "3.10.9"
  }
 },
 "nbformat": 4,
 "nbformat_minor": 5
}
