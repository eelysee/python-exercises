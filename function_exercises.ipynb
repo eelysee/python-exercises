{
 "cells": [
  {
   "attachments": {},
   "cell_type": "markdown",
   "metadata": {},
   "source": [
    "Define a function named is_two. It should accept one input and return True if the passed input is either the number or the string 2, False otherwise.\n"
   ]
  },
  {
   "cell_type": "code",
   "execution_count": 32,
   "metadata": {},
   "outputs": [
    {
     "name": "stdout",
     "output_type": "stream",
     "text": [
      "True\n"
     ]
    }
   ],
   "source": [
    "l = input('is two?')\n",
    "\n",
    "def is_two(l):\n",
    "    two = 'two'\n",
    "    if l.lower().strip() == two or l == 2 or l == '2':\n",
    "        return True\n",
    "    else:\n",
    "        return False\n",
    "\n",
    "print(is_two(l))"
   ]
  },
  {
   "attachments": {},
   "cell_type": "markdown",
   "metadata": {},
   "source": [
    "2. Define a function named is_vowel. It should return True if the passed string is a vowel, False otherwise."
   ]
  },
  {
   "cell_type": "code",
   "execution_count": 10,
   "metadata": {},
   "outputs": [
    {
     "name": "stdout",
     "output_type": "stream",
     "text": [
      "False\n"
     ]
    }
   ],
   "source": [
    "a = input('is vowel?')\n",
    "\n",
    "def is_vowel(a):\n",
    "    v = ['a', 'e', 'i' , 'o' , 'u']\n",
    "    if a in v:\n",
    "        return True\n",
    "    else:\n",
    "        return False\n",
    "\n",
    "print(is_vowel(a))"
   ]
  },
  {
   "attachments": {},
   "cell_type": "markdown",
   "metadata": {},
   "source": [
    "3. Define a function named is_consonant. It should return True if the passed string is a consonant, False otherwise. Use your is_vowel function to accomplish this."
   ]
  },
  {
   "cell_type": "code",
   "execution_count": 28,
   "metadata": {},
   "outputs": [
    {
     "name": "stdout",
     "output_type": "stream",
     "text": [
      "True\n"
     ]
    }
   ],
   "source": [
    "b = input('is consonant?')\n",
    "\n",
    "def is_consonant(b):\n",
    "    v = ['a', 'e', 'i' , 'o' , 'u']\n",
    "    if b not in v:\n",
    "        return True\n",
    "    else:\n",
    "        return False\n",
    "\n",
    "print(is_consonant(b))"
   ]
  },
  {
   "attachments": {},
   "cell_type": "markdown",
   "metadata": {},
   "source": [
    "4. Define a function that accepts a string that is a word. The function should capitalize the first letter of the word if the word starts with a consonant."
   ]
  },
  {
   "cell_type": "code",
   "execution_count": 38,
   "metadata": {},
   "outputs": [
    {
     "name": "stdout",
     "output_type": "stream",
     "text": [
      "Ffi\n"
     ]
    }
   ],
   "source": [
    "w = input('Please enter a word.')\n",
    "\n",
    "def proper_c(w):\n",
    "    v = ['a', 'e', 'i' , 'o' , 'u']\n",
    "    if w[0] not in v:\n",
    "        return w.capitalize()\n",
    "    else:\n",
    "        return w\n",
    "\n",
    "print(proper_c(w))"
   ]
  },
  {
   "attachments": {},
   "cell_type": "markdown",
   "metadata": {},
   "source": [
    "5. Define a function named calculate_tip. It should accept a tip percentage (a number between 0 and 1) and the bill total, and return the amount to tip."
   ]
  },
  {
   "cell_type": "code",
   "execution_count": 56,
   "metadata": {},
   "outputs": [
    {
     "name": "stdout",
     "output_type": "stream",
     "text": [
      "5.0\n"
     ]
    }
   ],
   "source": [
    "tip = float(input('Enter tip percentage'))\n",
    "bill = float(input('Enter your total bill'))\n",
    "\n",
    "\n",
    "def calculate_tip(tip, bill):\n",
    "   return tip * bill\n",
    "\n",
    "print(calculate_tip(tip, bill))"
   ]
  },
  {
   "attachments": {},
   "cell_type": "markdown",
   "metadata": {},
   "source": [
    "Define a function named apply_discount. It should accept a original price, and a discount percentage, and return the price after the discount is applied."
   ]
  },
  {
   "cell_type": "code",
   "execution_count": 40,
   "metadata": {},
   "outputs": [
    {
     "name": "stdout",
     "output_type": "stream",
     "text": [
      "85.0\n"
     ]
    }
   ],
   "source": [
    "original_price = float(input('Enter original price'))\n",
    "discount = float(input('Enter discount'))\n",
    "\n",
    "\n",
    "def apply_discount(original_price, discount):\n",
    "   return original_price - (original_price * discount)\n",
    "\n",
    "print(apply_discount(original_price, discount))"
   ]
  },
  {
   "attachments": {},
   "cell_type": "markdown",
   "metadata": {},
   "source": [
    "7. Define a function named handle_commas. It should accept a string that is a number that contains commas in it as input, and return a number as output."
   ]
  },
  {
   "cell_type": "code",
   "execution_count": 6,
   "metadata": {},
   "outputs": [
    {
     "name": "stdout",
     "output_type": "stream",
     "text": [
      "I stole your comma(s)!!\n",
      "55\n"
     ]
    }
   ],
   "source": [
    "big_num = input('Enter big number with at least one comma')\n",
    "\n",
    "def handle_commas(big_num):\n",
    "    return big_num.replace(',', '')\n",
    "    \n",
    "print('I stole your comma(s)!!' )\n",
    "print(handle_commas(big_num))\n",
    "\n"
   ]
  },
  {
   "attachments": {},
   "cell_type": "markdown",
   "metadata": {},
   "source": [
    "Define a function named get_letter_grade. It should accept a number and return the letter grade associated with that number (A-F)."
   ]
  },
  {
   "cell_type": "code",
   "execution_count": 9,
   "metadata": {},
   "outputs": [
    {
     "data": {
      "text/plain": [
       "'You got a: C'"
      ]
     },
     "execution_count": 9,
     "metadata": {},
     "output_type": "execute_result"
    }
   ],
   "source": [
    "n = (int(input('Please enter your grade.')))\n",
    "\n",
    "def get_letter_grade(n):\n",
    "    if n >= 88:\n",
    "        return('You got an: A')\n",
    "    elif n >= 80:\n",
    "        return('You got a: B')\n",
    "    elif n >= 67:\n",
    "        return('You got a: C')\n",
    "    elif n >= 60:\n",
    "        return('You got a: D')\n",
    "    else:\n",
    "        return('You got a: F')\n",
    "\n",
    "\n",
    "get_letter_grade(n)"
   ]
  },
  {
   "attachments": {},
   "cell_type": "markdown",
   "metadata": {},
   "source": [
    "Define a function named remove_vowels that accepts a string and returns a string with all the vowels removed."
   ]
  },
  {
   "cell_type": "code",
   "execution_count": 33,
   "metadata": {},
   "outputs": [
    {
     "name": "stdout",
     "output_type": "stream",
     "text": [
      "bt\n"
     ]
    }
   ],
   "source": [
    "s = input('Please enter a sentence or word.')\n",
    "\n",
    "\n",
    "def remove_vowels(s):\n",
    "    vs = ['a', 'e', 'i' , 'o' , 'u']\n",
    "    ss = s.strip().lower()\n",
    "\n",
    "    for v in vs:\n",
    "      ss = ss.replace(v, '')\n",
    "    \n",
    "    return ss\n",
    "\n",
    "\n",
    "print(remove_vowels(s))"
   ]
  },
  {
   "attachments": {},
   "cell_type": "markdown",
   "metadata": {},
   "source": [
    "Define a function named normalize_name. It should accept a string and return a valid python identifier, that is:\n",
    "anything that is not a valid python identifier should be removed\n",
    "leading and trailing whitespace should be removed\n",
    "everything should be lowercase\n",
    "spaces should be replaced with underscores\n",
    "for example:\n",
    "Name will become name\n",
    "First Name will become first_name\n",
    "% Completed will become completed"
   ]
  },
  {
   "cell_type": "code",
   "execution_count": 55,
   "metadata": {},
   "outputs": [
    {
     "name": "stdout",
     "output_type": "stream",
     "text": [
      "False\n"
     ]
    }
   ],
   "source": [
    "\n",
    "p = input('Please enter a sentence or word.')\n",
    "\n",
    "\n",
    "# broke it trying to incorporate in function\n",
    "# prob can use .alnum()  as in nikki example\n",
    "\n",
    "\n",
    "\n",
    "'''\n",
    "# Theo's version. Super solid. Only allows approved items in list.\n",
    "\n",
    "def normalize_name():\n",
    "    sentence = input('Please enter a phrase: ')\n",
    "    py_id = 'abcdefghijklmnopqrstuvwxyz0123456789_. '\n",
    "    lower_case = sentence.lower()\n",
    "    my_lst = []\n",
    "    for test in lower_case:\n",
    "        if test in py_id:\n",
    "            my_lst.append(test)\n",
    "    desired_phrase = ''.join(my_lst).strip().replace(' ','_')\n",
    "    return desired_phrase\n",
    "'''\n",
    "\n",
    "def normalize_name(p):\n",
    "    pp = p.strip().lower().replace(' ','_')\n",
    "    #sp = ['!' , '@' , '#' , '$' , '%' , '^' , '&' , '*']\n",
    "    #for l in pp:\n",
    "     #   if l in sp:\n",
    "      #      pp.replace(l,'')\n",
    "    return pp\n",
    "\n",
    "\n",
    "print(normalize_name(p))"
   ]
  }
 ],
 "metadata": {
  "kernelspec": {
   "display_name": "base",
   "language": "python",
   "name": "python3"
  },
  "language_info": {
   "codemirror_mode": {
    "name": "ipython",
    "version": 3
   },
   "file_extension": ".py",
   "mimetype": "text/x-python",
   "name": "python",
   "nbconvert_exporter": "python",
   "pygments_lexer": "ipython3",
   "version": "3.10.9"
  },
  "orig_nbformat": 4
 },
 "nbformat": 4,
 "nbformat_minor": 2
}
