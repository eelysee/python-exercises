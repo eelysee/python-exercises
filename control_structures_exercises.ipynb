{
 "cells": [
  {
   "attachments": {},
   "cell_type": "markdown",
   "metadata": {},
   "source": [
    "Conditional Basics"
   ]
  },
  {
   "attachments": {},
   "cell_type": "markdown",
   "metadata": {},
   "source": [
    "Prompt the user for a day of the week, print out whether the day is Monday or not"
   ]
  },
  {
   "cell_type": "code",
   "execution_count": 11,
   "metadata": {},
   "outputs": [
    {
     "name": "stdout",
     "output_type": "stream",
     "text": [
      "Today is not Monday!\n"
     ]
    }
   ],
   "source": [
    "your_day = input('What day is today?')\n",
    "\n",
    "if your_day.lower() == 'monday':\n",
    "    print('Today is Monday')\n",
    "else:\n",
    "    print('Today is not Monday!')"
   ]
  },
  {
   "attachments": {},
   "cell_type": "markdown",
   "metadata": {},
   "source": [
    "Prompt the user for a day of the week, print out whether the day is a weekday or a weekend"
   ]
  },
  {
   "cell_type": "code",
   "execution_count": 19,
   "metadata": {},
   "outputs": [
    {
     "name": "stdout",
     "output_type": "stream",
     "text": [
      "It is the weekday.\n"
     ]
    }
   ],
   "source": [
    "your_day = input('What day is today?')\n",
    "\n",
    "if your_day.lower() in ['saturday', 'sunday']:\n",
    "    print('It is the weekend.')\n",
    "else:\n",
    "    print('It is the weekday.')\n"
   ]
  },
  {
   "attachments": {},
   "cell_type": "markdown",
   "metadata": {},
   "source": [
    "Calculate a weekly paycheck, accounting for overtime pay. Create variables and make up values for:\n",
    "\n",
    "The number of hours worked in one week\n",
    "The hourly rate\n",
    "For calculating pay:\n",
    "\n",
    "For working 40 hours or less, each hour is paid at the hourly rate\n",
    "For working more than 40 hours\n",
    "\n",
    "the first 40 hours are paid at the hourly rate\n",
    "\n",
    "each hour after 40 is paid at time and a half (hourly rate * 1.5)"
   ]
  },
  {
   "cell_type": "code",
   "execution_count": 10,
   "metadata": {},
   "outputs": [
    {
     "name": "stdout",
     "output_type": "stream",
     "text": [
      "$ 2695.79\n"
     ]
    }
   ],
   "source": [
    "hours_worked = float(input('How many hours did you work this week?'))\n",
    "hourly_rate = 25\n",
    "time_and_a_half = hourly_rate * 1.5\n",
    "\n",
    "\n",
    "if hours_worked <= 40:\n",
    "    pay = hours_worked * hourly_rate\n",
    "else:\n",
    "    pay = (40 * hourly_rate) + ((hours_worked - 40) * time_and_a_half)\n",
    "\n",
    "\n",
    "print('$',round(pay , 2))"
   ]
  },
  {
   "attachments": {},
   "cell_type": "markdown",
   "metadata": {},
   "source": [
    "Loop Basics\n",
    "\n",
    "While"
   ]
  },
  {
   "attachments": {},
   "cell_type": "markdown",
   "metadata": {},
   "source": [
    "Create an integer variable i with a value of 5. Create a while loop that runs so long as i is less than or equal to 15. Each loop iteration, output the current value of i, then increment i by one.\n",
    "Your output should look like this:\n",
    "\n",
    "\n",
    "5\n",
    "6\n",
    "7\n",
    "8\n",
    "9\n",
    "10\n",
    "11\n",
    "12\n",
    "13\n",
    "14\n",
    "15"
   ]
  },
  {
   "cell_type": "code",
   "execution_count": null,
   "metadata": {},
   "outputs": [],
   "source": [
    "i = 5\n",
    "\n",
    "while i < 16:\n",
    "    print(i)\n",
    "    i += 1"
   ]
  },
  {
   "attachments": {},
   "cell_type": "markdown",
   "metadata": {},
   "source": [
    "Create a while loop that will count by 2's starting with 0 and ending at 100. Follow each number with a new line."
   ]
  },
  {
   "cell_type": "code",
   "execution_count": null,
   "metadata": {},
   "outputs": [],
   "source": [
    "i = 0\n",
    "\n",
    "while i < 101:\n",
    "    print(i)\n",
    "    i += 2"
   ]
  },
  {
   "attachments": {},
   "cell_type": "markdown",
   "metadata": {},
   "source": [
    "Create a while loop that starts at 2, and displays the number squared on each line while the number is less than 1,000,000. Output should equal:\n",
    "\n",
    "\n",
    " 2\n",
    " 4\n",
    " 16\n",
    " 256\n",
    " 65536"
   ]
  },
  {
   "cell_type": "code",
   "execution_count": null,
   "metadata": {},
   "outputs": [],
   "source": [
    "i = 2\n",
    "while i < 1000000:\n",
    "    print(i)\n",
    "    i **= 2"
   ]
  },
  {
   "attachments": {},
   "cell_type": "markdown",
   "metadata": {},
   "source": [
    "Write a while loop that uses print to create the output shown below.\n",
    "\n",
    "\n",
    "100\n",
    "95\n",
    "90\n",
    "85\n",
    "80\n",
    "75\n",
    "70\n",
    "65\n",
    "60\n",
    "55\n",
    "50\n",
    "45\n",
    "40\n",
    "35\n",
    "30\n",
    "25\n",
    "20\n",
    "15\n",
    "10\n",
    "5"
   ]
  },
  {
   "cell_type": "code",
   "execution_count": null,
   "metadata": {},
   "outputs": [],
   "source": [
    "i = 100\n",
    "\n",
    "while i > 0:\n",
    "    print(i)\n",
    "    i -= 5"
   ]
  },
  {
   "attachments": {},
   "cell_type": "markdown",
   "metadata": {},
   "source": [
    "For Loops"
   ]
  },
  {
   "attachments": {},
   "cell_type": "markdown",
   "metadata": {},
   "source": [
    "Write some code using a for loop that prompts the user for a number, then shows a multiplication table up through 10 for that number.\n",
    "\n",
    "For example, if the user enters 7, your program should output:\n",
    "\n",
    "\n",
    "7 x 1 = 7\n",
    "7 x 2 = 14\n",
    "7 x 3 = 21\n",
    "7 x 4 = 28\n",
    "7 x 5 = 35\n",
    "7 x 6 = 42\n",
    "7 x 7 = 49\n",
    "7 x 8 = 56\n",
    "7 x 9 = 63\n",
    "7 x 10 = 70"
   ]
  },
  {
   "cell_type": "code",
   "execution_count": null,
   "metadata": {},
   "outputs": [],
   "source": [
    "your_number = (int(input('Enter number')))\n",
    "multiples = range(1,11)\n",
    "\n",
    "for n in multiples:\n",
    "    print(your_number, 'x', n, '=' , your_number * n)\n",
    "    \n"
   ]
  },
  {
   "attachments": {},
   "cell_type": "markdown",
   "metadata": {},
   "source": [
    "Create a for loop that uses print to create the output shown below.\n",
    "\n",
    "\n",
    "1\n",
    "22\n",
    "333\n",
    "4444\n",
    "55555\n",
    "666666\n",
    "7777777\n",
    "88888888\n",
    "999999999"
   ]
  },
  {
   "cell_type": "code",
   "execution_count": null,
   "metadata": {},
   "outputs": [],
   "source": [
    "big = range(1, 10)\n",
    "\n",
    "for i in big:\n",
    "    print(str(i) * i)\n",
    "    i += 1\n"
   ]
  },
  {
   "attachments": {},
   "cell_type": "markdown",
   "metadata": {},
   "source": [
    "break and continue"
   ]
  },
  {
   "attachments": {},
   "cell_type": "markdown",
   "metadata": {},
   "source": [
    "break and continue"
   ]
  },
  {
   "attachments": {},
   "cell_type": "markdown",
   "metadata": {},
   "source": [
    "Write a program that prompts the user for a positive integer. \n",
    "Next write a loop that prints out the numbers from the number the user entered down to 1."
   ]
  },
  {
   "cell_type": "code",
   "execution_count": null,
   "metadata": {},
   "outputs": [],
   "source": [
    "i = int(input('Enter positive integer.'))\n",
    "\n",
    "while i > 0: \n",
    "    print(i)\n",
    "    i -= 1\n",
    "    if i == 0:\n",
    "        # print(0)\n",
    "        break"
   ]
  },
  {
   "attachments": {},
   "cell_type": "markdown",
   "metadata": {},
   "source": [
    "The input function can be used to prompt for input and use that input in your python code. Prompt the user to enter a positive number and write a loop that counts from 0 to that number. (Hints: note that the input function returns a string, so you'll need to convert this to a numeric type.)"
   ]
  },
  {
   "cell_type": "code",
   "execution_count": null,
   "metadata": {},
   "outputs": [],
   "source": [
    "i = int(input('Enter positive integer.'))\n",
    "c = 0\n",
    "while i > 0: \n",
    "    print(c)\n",
    "    c += 1\n",
    "    if i == c:\n",
    "        print(c)\n",
    "        break"
   ]
  },
  {
   "attachments": {},
   "cell_type": "markdown",
   "metadata": {},
   "source": [
    "Prompt the user for an odd number between 1 and 50. Use a loop and a break statement to continue prompting the user if they enter invalid input. (Hint: use the isdigit method on strings to determine this). Use a loop and the continue statement to output all the odd numbers between 1 and 50, except for the number the user entered.\n",
    "\n",
    "Number to skip is: 27\n",
    "\n",
    "Here is an odd number: 1\n",
    "Here is an odd number: 3\n",
    "Here is an odd number: 5\n",
    "Here is an odd number: 7\n",
    "Here is an odd number: 9\n",
    "Here is an odd number: 11\n",
    "Here is an odd number: 13\n",
    "Here is an odd number: 15\n",
    "Here is an odd number: 17\n",
    "Here is an odd number: 19\n",
    "Here is an odd number: 21\n",
    "Here is an odd number: 23\n",
    "Here is an odd number: 25\n",
    "Yikes! Skipping number: 27\n",
    "Here is an odd number: 29\n",
    "Here is an odd number: 31\n",
    "Here is an odd number: 33\n",
    "Here is an odd number: 35\n",
    "Here is an odd number: 37\n",
    "Here is an odd number: 39\n",
    "Here is an odd number: 41\n",
    "Here is an odd number: 43\n",
    "Here is an odd number: 45\n",
    "Here is an odd number: 47\n",
    "Here is an odd number: 49"
   ]
  },
  {
   "cell_type": "code",
   "execution_count": null,
   "metadata": {},
   "outputs": [],
   "source": [
    "your_number = (int(input('Enter positive odd number.')))\n",
    "multiples = range(1,50)\n",
    "\n",
    "while your_number % 2 == 0 or your_number > 50:\n",
    "        print('Try again')\n",
    "        your_number = (int(input('Enter positive odd number.')))\n",
    "    \n",
    "\n",
    "print('Number to skip is:' , your_number , '\\n')\n",
    "\n",
    "for n in multiples:\n",
    "\n",
    "    \n",
    "    if n % 2 == 0 and n != your_number:\n",
    "        continue\n",
    "    if your_number == n:\n",
    "        print('Yikes! skipping number: ' , your_number)\n",
    "        continue\n",
    "    print('Here is an odd number: ' , n)\n",
    "    \n",
    "\n",
    "\n",
    "# i = int(input('Enter positive odd number.'))\n",
    "\n",
    "#for c in range(1,50):\n",
    " #   print(c)\n",
    "  #  c += 2\n",
    "  #  if i == c:\n",
    "   #     print('Yikes! skipping number: ' , i)\n",
    "    #break"
   ]
  },
  {
   "attachments": {},
   "cell_type": "markdown",
   "metadata": {},
   "source": [
    "Fizzbuzz\n",
    "\n",
    "One of the most common interview questions for entry-level programmers is the FizzBuzz test. Developed by Imran Ghory, the test is designed to test basic looping and conditional logic skills.\n",
    "\n",
    "Write a program that prints the numbers from 1 to 100.\n",
    "For multiples of three print \"Fizz\" instead of the number\n",
    "For the multiples of five print \"Buzz\".\n",
    "For numbers which are multiples of both three and five print \"FizzBuzz\"."
   ]
  },
  {
   "cell_type": "code",
   "execution_count": null,
   "metadata": {},
   "outputs": [],
   "source": [
    "for n in range(1,101):\n",
    "    if n % 3 == 0  and n % 5 == 0:\n",
    "        print('fizzbuzz')\n",
    "    \n",
    "    elif n % 3 == 0:\n",
    "        print('fizz')\n",
    "    \n",
    "    elif n % 5 == 0:\n",
    "        print('buzz')\n",
    "    \n",
    "    else:\n",
    "        print(n)\n",
    "\n",
    "\n"
   ]
  },
  {
   "attachments": {},
   "cell_type": "markdown",
   "metadata": {},
   "source": [
    "Display a table of powers.\n",
    "\n",
    "Prompt the user to enter an integer\n",
    "Display a table of squares and cubes from 1 to the value entered\n",
    "Ask if the user wants to continue\n",
    "Assume that the user will enter valid data\n",
    "Only continue if the user agrees to\n",
    "Example Output\n",
    "\n",
    "\n",
    "What number would you like to go up to? 5\n",
    "\n",
    "Here is your table!\n",
    "\n",
    "number | squared | cubed\n",
    "------ | ------- | -----\n",
    "1      | 1       | 1\n",
    "2      | 4       | 8\n",
    "3      | 9       | 27\n",
    "4      | 16      | 64\n",
    "5      | 25      | 125"
   ]
  },
  {
   "cell_type": "code",
   "execution_count": null,
   "metadata": {},
   "outputs": [],
   "source": [
    "# not done yet\n",
    "\n",
    "your_number = (int(input('Enter an interger.')))\n"
   ]
  },
  {
   "attachments": {},
   "cell_type": "markdown",
   "metadata": {},
   "source": [
    "Convert given number grades into letter grades.\n",
    "\n",
    "Prompt the user for a numerical grade from 0 to 100\n",
    "Display the corresponding letter grade\n",
    "Prompt the user to continue\n",
    "Assume that the user will enter valid integers for the grades\n",
    "The application should only continue if the user agrees to\n",
    "Grade Ranges:\n",
    "\n",
    "A : 100 - 88\n",
    "B : 87 - 80\n",
    "C : 79 - 67\n",
    "D : 66 - 60\n",
    "F : 59 - 0"
   ]
  },
  {
   "cell_type": "code",
   "execution_count": 5,
   "metadata": {},
   "outputs": [
    {
     "name": "stdout",
     "output_type": "stream",
     "text": [
      "You got a: C\n"
     ]
    }
   ],
   "source": [
    "n = (int(input('Please enter your grade.')))\n",
    "\n",
    "if n >= 88:\n",
    "    print('You got an: A')\n",
    "elif n >= 80:\n",
    "    print('You got a: B')\n",
    "elif n >= 67:\n",
    "    print('You got a: C')\n",
    "elif n >= 60:\n",
    "    print('You got a: D')\n",
    "else:\n",
    "    print('You got a: F')\n",
    "\n",
    "user_input = input('Press y to continue: ')\n",
    "while user_input.lower() != 'y':\n",
    "    user_input = input('Press y to continue: ')\n",
    "\n",
    "\n",
    "\n"
   ]
  }
 ],
 "metadata": {
  "kernelspec": {
   "display_name": "base",
   "language": "python",
   "name": "python3"
  },
  "language_info": {
   "codemirror_mode": {
    "name": "ipython",
    "version": 3
   },
   "file_extension": ".py",
   "mimetype": "text/x-python",
   "name": "python",
   "nbconvert_exporter": "python",
   "pygments_lexer": "ipython3",
   "version": "3.10.9"
  },
  "orig_nbformat": 4
 },
 "nbformat": 4,
 "nbformat_minor": 2
}
